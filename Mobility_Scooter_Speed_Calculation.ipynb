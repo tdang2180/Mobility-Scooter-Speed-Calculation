{
  "nbformat": 4,
  "nbformat_minor": 0,
  "metadata": {
    "colab": {
      "provenance": [],
      "mount_file_id": "1hFT1Gj0l8t4WeaJHm2RK3kHE5xbV9wTz",
      "authorship_tag": "ABX9TyOTHMUKKZ8eXMrOJEbjqTu7",
      "include_colab_link": true
    },
    "kernelspec": {
      "name": "python3",
      "display_name": "Python 3"
    },
    "language_info": {
      "name": "python"
    }
  },
  "cells": [
    {
      "cell_type": "markdown",
      "metadata": {
        "id": "view-in-github",
        "colab_type": "text"
      },
      "source": [
        "<a href=\"https://colab.research.google.com/github/tdang2180/Mobility-Scooter-Speed-Calculation/blob/main/Mobility_Scooter_Speed_Calculation.ipynb\" target=\"_parent\"><img src=\"https://colab.research.google.com/assets/colab-badge.svg\" alt=\"Open In Colab\"/></a>"
      ]
    },
    {
      "cell_type": "code",
      "execution_count": 16,
      "metadata": {
        "id": "uEWJ7e2WuFuS"
      },
      "outputs": [],
      "source": [
        "import pandas as pd\n",
        "import numpy as np\n",
        "import matplotlib.pyplot as plt"
      ]
    },
    {
      "cell_type": "code",
      "source": [
        "df = pd.read_csv('/April_5_Run_1.csv')\n",
        "df['acc_magnitude'] = np.sqrt(df['acc_x']**2 + df['acc_y']**2 + df['acc_z']**2)\n",
        "df['gyro_magnitude'] = np.sqrt(df['gyro_x']**2 + df['gyro_y']**2 + df['gyro_z']**2)\n",
        "df['datetime'] = pd.to_datetime(df['datetime'])\n",
        "df['time'] = df['datetime'].dt.time\n",
        "print(df[['acc_x','acc_y','acc_z', 'acc_magnitude', 'time']])"
      ],
      "metadata": {
        "colab": {
          "base_uri": "https://localhost:8080/"
        },
        "id": "mh3WtwPgvMvr",
        "outputId": "26ec7409-4bd7-4a5b-834b-7c3eb114ff93"
      },
      "execution_count": 28,
      "outputs": [
        {
          "output_type": "stream",
          "name": "stdout",
          "text": [
            "         acc_x     acc_y     acc_z  acc_magnitude             time\n",
            "0     0.064976 -0.735980  0.675528       1.001113  11:33:45.837070\n",
            "1     0.067158 -0.693042  0.677234       0.971320  11:33:46.364798\n",
            "2     0.068855 -0.695454  0.677965       0.973670  11:33:46.915594\n",
            "3     0.067885 -0.693042  0.680645       0.973752  11:33:47.466455\n",
            "4     0.067642 -0.693042  0.680889       0.973906  11:33:48.001725\n",
            "...        ...       ...       ...            ...              ...\n",
            "2260  0.056732 -0.692560  0.697217       0.984362  11:56:02.973306\n",
            "2261  0.057460 -0.691353  0.696973       0.983383  11:56:03.570811\n",
            "2262  0.056975 -0.692318  0.700872       0.986799  11:56:04.164838\n",
            "2263  0.056732 -0.693283  0.695267       0.983492  11:56:04.747821\n",
            "2264  0.057217 -0.691353  0.696242       0.982851  11:56:05.342520\n",
            "\n",
            "[2265 rows x 5 columns]\n"
          ]
        }
      ]
    },
    {
      "cell_type": "code",
      "source": [
        "# Use linear interpolation to estimate values of speed at unrecorded times (every second)\n",
        "def interpolate_speed(s):\n",
        "    timestamps = pd.date_range(start=df['datetime'].iloc[0], end=df['datetime'].iloc[-1], freq='1s')\n",
        "    df_interp = pd.DataFrame({'datetime': timestamps})\n",
        "    df_interp['speed'] = np.interp(df_interp['datetime'], df['datetime'], df['speed'])\n",
        "    df_interp.to_csv(f\"{s}_interpolate.csv\")\n",
        "    print(df_interp)"
      ],
      "metadata": {
        "id": "ZVlpVrcIucd-"
      },
      "execution_count": 30,
      "outputs": []
    },
    {
      "cell_type": "code",
      "source": [
        "# Use the magnitude of acceleration to find the magnitude of speed\n",
        "def acc_magnitude_speed():\n",
        "    df['speed'] =(df['acc_magnitude'] * df['datetime'].diff())\n",
        "    df['speed'] = df['speed'].dt.total_seconds()  # Convert timedelta to seconds\n",
        "    df['speed'] = df['speed'].fillna(0).cumsum()\n",
        "    df[['time', 'acc_magnitude', 'speed']].to_csv(\"acc_magnitude_speed.csv\")\n",
        "    print(df[['time', 'acc_magnitude', 'speed']])"
      ],
      "metadata": {
        "id": "aFGpiDh3ps4J"
      },
      "execution_count": 59,
      "outputs": []
    },
    {
      "cell_type": "code",
      "source": [
        "acc_magnitude_speed()"
      ],
      "metadata": {
        "colab": {
          "base_uri": "https://localhost:8080/"
        },
        "id": "Fcxwo_9zsbLc",
        "outputId": "4460a79b-81cc-43ba-e14c-bafed1ed9c17"
      },
      "execution_count": 60,
      "outputs": [
        {
          "output_type": "stream",
          "name": "stdout",
          "text": [
            "                 time  acc_magnitude        speed\n",
            "0     11:33:45.837070       1.001113     0.000000\n",
            "1     11:33:46.364798       0.971320     0.512593\n",
            "2     11:33:46.915594       0.973670     1.048886\n",
            "3     11:33:47.466455       0.973752     1.585289\n",
            "4     11:33:48.001725       0.973906     2.106591\n",
            "...               ...            ...          ...\n",
            "2260  11:56:02.973306       0.984362  1306.375739\n",
            "2261  11:56:03.570811       0.983383  1306.963315\n",
            "2262  11:56:04.164838       0.986799  1307.549501\n",
            "2263  11:56:04.747821       0.983492  1308.122860\n",
            "2264  11:56:05.342520       0.982851  1308.707360\n",
            "\n",
            "[2265 rows x 3 columns]\n"
          ]
        }
      ]
    },
    {
      "cell_type": "code",
      "source": [
        "interpolate_speed(\"acc_magnitude_speed\")"
      ],
      "metadata": {
        "colab": {
          "base_uri": "https://localhost:8080/"
        },
        "id": "VJ9feokSuZRW",
        "outputId": "844e8ec0-13cc-4c2f-9054-44da8da4ceae"
      },
      "execution_count": 35,
      "outputs": [
        {
          "output_type": "stream",
          "name": "stdout",
          "text": [
            "                       datetime        speed\n",
            "0    2023-04-04 11:33:45.837070     0.000000\n",
            "1    2023-04-04 11:33:46.837070     0.972430\n",
            "2    2023-04-04 11:33:47.837070     1.946233\n",
            "3    2023-04-04 11:33:48.837070     2.921756\n",
            "4    2023-04-04 11:33:49.837070     3.897001\n",
            "...                         ...          ...\n",
            "1335 2023-04-04 11:56:00.837070  1304.273549\n",
            "1336 2023-04-04 11:56:01.837070  1305.257072\n",
            "1337 2023-04-04 11:56:02.837070  1306.241633\n",
            "1338 2023-04-04 11:56:03.837070  1307.226060\n",
            "1339 2023-04-04 11:56:04.837070  1308.210578\n",
            "\n",
            "[1340 rows x 2 columns]\n"
          ]
        }
      ]
    },
    {
      "cell_type": "code",
      "source": [
        "# Calculate velocity vectors before finding the magnitude of speed\n",
        "def velocity_speed():\n",
        "    df['velocity_x'] = (df['acc_x'] * df['datetime'].diff())\n",
        "    df['velocity_x'] = df['velocity_x'].dt.total_seconds()  # Convert timedelta to seconds\n",
        "    df['velocity_x'] = df['velocity_x'].fillna(0).cumsum()\n",
        "\n",
        "    df['velocity_y'] = (df['acc_y'] * df['datetime'].diff())\n",
        "    df['velocity_y'] = df['velocity_y'].dt.total_seconds()  # Convert timedelta to seconds\n",
        "    df['velocity_y'] = df['velocity_y'].fillna(0).cumsum()\n",
        "\n",
        "    df['velocity_z'] = (df['acc_z'] * df['datetime'].diff())\n",
        "    df['velocity_z'] = df['velocity_z'].dt.total_seconds()  # Convert timedelta to seconds\n",
        "    df['velocity_z'] = df['velocity_z'].fillna(0).cumsum()\n",
        "    df['speed'] = np.sqrt(df['velocity_x']**2 + df['velocity_y']**2 + df['velocity_z']**2)\n",
        "\n",
        "    df[['time', 'velocity_x', 'velocity_y', 'velocity_z', 'speed']].to_csv(\"velocity_speed.csv\")\n",
        "    print(df[['time', 'velocity_x', 'velocity_y', 'velocity_z', 'speed']])"
      ],
      "metadata": {
        "id": "L7Pm1kga03Yj"
      },
      "execution_count": 36,
      "outputs": []
    },
    {
      "cell_type": "code",
      "source": [
        "velocity_speed()"
      ],
      "metadata": {
        "colab": {
          "base_uri": "https://localhost:8080/"
        },
        "id": "eB13PHFJrVhx",
        "outputId": "42f3f26e-463a-4775-d6fe-0e9cfae0cc17"
      },
      "execution_count": 48,
      "outputs": [
        {
          "output_type": "stream",
          "name": "stdout",
          "text": [
            "                 time  velocity_x  velocity_y  velocity_z        speed\n",
            "0     11:33:45.837070    0.000000    0.000000    0.000000     0.000000\n",
            "1     11:33:46.364798    0.035441   -0.365738    0.357395     0.512593\n",
            "2     11:33:46.915594    0.073366   -0.748791    0.730815     1.048886\n",
            "3     11:33:47.466455    0.110761   -1.130561    1.105756     1.585286\n",
            "4     11:33:48.001725    0.146968   -1.501526    1.470216     2.106588\n",
            "...               ...         ...         ...         ...          ...\n",
            "2260  11:56:02.973306   74.498281 -920.200693  913.708906  1298.916192\n",
            "2261  11:56:03.570811   74.532614 -920.613780  914.125351  1299.503751\n",
            "2262  11:56:04.164838   74.566458 -921.025036  914.541688  1300.089909\n",
            "2263  11:56:04.747821   74.599532 -921.429208  914.947017  1300.663261\n",
            "2264  11:56:05.342520   74.633559 -921.840355  915.361071  1301.247747\n",
            "\n",
            "[2265 rows x 5 columns]\n"
          ]
        }
      ]
    },
    {
      "cell_type": "code",
      "source": [
        "interpolate_speed(\"velocity_speed\")"
      ],
      "metadata": {
        "colab": {
          "base_uri": "https://localhost:8080/"
        },
        "id": "A14aK6iTCXJC",
        "outputId": "4fc12ff6-0c10-46d7-9160-5e8e6069e631"
      },
      "execution_count": 38,
      "outputs": [
        {
          "output_type": "stream",
          "name": "stdout",
          "text": [
            "                       datetime        speed\n",
            "0    2023-04-04 11:33:45.837070     0.000000\n",
            "1    2023-04-04 11:33:46.837070     0.972430\n",
            "2    2023-04-04 11:33:47.837070     1.946230\n",
            "3    2023-04-04 11:33:48.837070     2.921747\n",
            "4    2023-04-04 11:33:49.837070     3.896990\n",
            "...                         ...          ...\n",
            "1335 2023-04-04 11:56:00.837070  1296.814066\n",
            "1336 2023-04-04 11:56:01.837070  1297.797559\n",
            "1337 2023-04-04 11:56:02.837070  1298.782090\n",
            "1338 2023-04-04 11:56:03.837070  1299.766483\n",
            "1339 2023-04-04 11:56:04.837070  1300.750977\n",
            "\n",
            "[1340 rows x 2 columns]\n"
          ]
        }
      ]
    },
    {
      "cell_type": "code",
      "source": [
        "# Use the magnitude of acceleration and time elapsed points to find the magnitude of speed\n",
        "def acc_magnitude_speed_elapsed():\n",
        "    df['speed'] =(df['acc_magnitude'] * df['elapsed'].diff()).fillna(df['acc_magnitude'].iloc[0] * df['elapsed'].iloc[0])\n",
        "    df['speed'] = df['speed'].fillna(0).cumsum()\n",
        "    df[['time', 'acc_magnitude', 'elapsed', 'speed']].to_csv(\"acc_magnitude_speed_elapsed.csv\")\n",
        "    print(df[['time', 'acc_magnitude', 'elapsed', 'speed']])"
      ],
      "metadata": {
        "id": "bN1HnWY_0PQ_"
      },
      "execution_count": 51,
      "outputs": []
    },
    {
      "cell_type": "code",
      "source": [
        "acc_magnitude_speed_elapsed()"
      ],
      "metadata": {
        "colab": {
          "base_uri": "https://localhost:8080/"
        },
        "id": "21s0-dA61aM7",
        "outputId": "30193f71-2c8f-467a-f12c-3c800e2e6900"
      },
      "execution_count": 52,
      "outputs": [
        {
          "output_type": "stream",
          "name": "stdout",
          "text": [
            "                 time  acc_magnitude  elapsed        speed\n",
            "0     11:33:45.837070       1.001113      6.1     6.106787\n",
            "1     11:33:46.364798       0.971320      6.6     6.592447\n",
            "2     11:33:46.915594       0.973670      7.2     7.176649\n",
            "3     11:33:47.466455       0.973752      7.7     7.663525\n",
            "4     11:33:48.001725       0.973906      8.2     8.150478\n",
            "...               ...            ...      ...          ...\n",
            "2260  11:56:02.973306       0.984362   1343.2  1312.433036\n",
            "2261  11:56:03.570811       0.983383   1343.8  1313.023066\n",
            "2262  11:56:04.164838       0.986799   1344.4  1313.615145\n",
            "2263  11:56:04.747821       0.983492   1345.0  1314.205240\n",
            "2264  11:56:05.342520       0.982851   1345.6  1314.794951\n",
            "\n",
            "[2265 rows x 4 columns]\n"
          ]
        }
      ]
    },
    {
      "cell_type": "code",
      "source": [
        "# Calculate velocity vectors before finding the magnitude of speed using time elasped points\n",
        "def velocity_speed_elapsed():\n",
        "    df['velocity_x'] = (df['acc_x'] * df['elapsed'].diff()).fillna(df['acc_x'].iloc[0] * df['elapsed'].iloc[0])\n",
        "    df['velocity_x'] = df['velocity_x'].fillna(0).cumsum()\n",
        "\n",
        "    df['velocity_y'] = (df['acc_y'] * df['elapsed'].diff()).fillna(df['acc_y'].iloc[0] * df['elapsed'].iloc[0])\n",
        "    df['velocity_y'] = df['velocity_y'].fillna(0).cumsum()\n",
        "\n",
        "    df['velocity_z'] = (df['acc_z'] * df['elapsed'].diff()).fillna(df['acc_z'].iloc[0] * df['elapsed'].iloc[0])\n",
        "    df['velocity_z'] = df['velocity_z'].fillna(0).cumsum()\n",
        "    df['speed'] = np.sqrt(df['velocity_x']**2 + df['velocity_y']**2 + df['velocity_z']**2)\n",
        "\n",
        "    df[['time', 'velocity_x', 'velocity_y', 'velocity_z', 'elapsed', 'speed']].to_csv(\"velocity_speed_elapsed.csv\")\n",
        "    print(df[['time', 'velocity_x', 'velocity_y', 'velocity_z', 'elapsed', 'speed']])"
      ],
      "metadata": {
        "id": "HkcLLT87ym1p"
      },
      "execution_count": 53,
      "outputs": []
    },
    {
      "cell_type": "code",
      "source": [
        "velocity_speed_elapsed()"
      ],
      "metadata": {
        "colab": {
          "base_uri": "https://localhost:8080/"
        },
        "id": "dbQJ7z3Sz_t4",
        "outputId": "239725a2-b45c-4f97-d883-54cbfea49358"
      },
      "execution_count": 54,
      "outputs": [
        {
          "output_type": "stream",
          "name": "stdout",
          "text": [
            "                 time  velocity_x  velocity_y  velocity_z  elapsed  \\\n",
            "0     11:33:45.837070    0.396351   -4.489479    4.120719      6.1   \n",
            "1     11:33:46.364798    0.429929   -4.836000    4.459336      6.6   \n",
            "2     11:33:46.915594    0.471242   -5.253273    4.866114      7.2   \n",
            "3     11:33:47.466455    0.505185   -5.599794    5.206437      7.7   \n",
            "4     11:33:48.001725    0.539006   -5.946315    5.546882      8.2   \n",
            "...               ...         ...         ...         ...      ...   \n",
            "2260  11:56:02.973306   74.859559 -924.643035  917.758335   1343.2   \n",
            "2261  11:56:03.570811   74.894035 -925.057847  918.176519   1343.8   \n",
            "2262  11:56:04.164838   74.928220 -925.473238  918.597042   1344.4   \n",
            "2263  11:56:04.747821   74.962259 -925.889208  919.014203   1345.0   \n",
            "2264  11:56:05.342520   74.996590 -926.304020  919.431948   1345.6   \n",
            "\n",
            "            speed  \n",
            "0        6.106787  \n",
            "1        6.592224  \n",
            "2        7.176212  \n",
            "3        7.662890  \n",
            "4        8.149668  \n",
            "...           ...  \n",
            "2260  1304.932588  \n",
            "2261  1305.522599  \n",
            "2262  1306.114650  \n",
            "2263  1306.704737  \n",
            "2264  1307.294432  \n",
            "\n",
            "[2265 rows x 6 columns]\n"
          ]
        }
      ]
    },
    {
      "cell_type": "code",
      "source": [
        "def acc_difference_speed_elapsed():\n",
        "    df['speed'] =(df['acc_magnitude'].diff() * df['elapsed'].diff()).fillna(df['acc_magnitude'].iloc[0] * df['elapsed'].iloc[0])\n",
        "    df['speed'] = df['speed'].fillna(0).cumsum()\n",
        "    df[['time', 'acc_magnitude', 'elapsed', 'speed']].to_csv(\"acc_difference_speed_elapsed.csv\")\n",
        "    print(df[['time', 'acc_magnitude', 'elapsed', 'speed']])"
      ],
      "metadata": {
        "id": "GPmxhhVD1z3E"
      },
      "execution_count": 55,
      "outputs": []
    },
    {
      "cell_type": "code",
      "source": [
        "acc_difference_speed_elapsed()"
      ],
      "metadata": {
        "colab": {
          "base_uri": "https://localhost:8080/"
        },
        "id": "gt3k6qDK2Nag",
        "outputId": "06a90116-bde4-4fff-ee34-15f6e3ba80d4"
      },
      "execution_count": 56,
      "outputs": [
        {
          "output_type": "stream",
          "name": "stdout",
          "text": [
            "                 time  acc_magnitude  elapsed     speed\n",
            "0     11:33:45.837070       1.001113      6.1  6.106787\n",
            "1     11:33:46.364798       0.971320      6.6  6.091890\n",
            "2     11:33:46.915594       0.973670      7.2  6.093300\n",
            "3     11:33:47.466455       0.973752      7.7  6.093342\n",
            "4     11:33:48.001725       0.973906      8.2  6.093418\n",
            "...               ...            ...      ...       ...\n",
            "2260  11:56:02.973306       0.984362   1343.2  5.971293\n",
            "2261  11:56:03.570811       0.983383   1343.8  5.970706\n",
            "2262  11:56:04.164838       0.986799   1344.4  5.972755\n",
            "2263  11:56:04.747821       0.983492   1345.0  5.970771\n",
            "2264  11:56:05.342520       0.982851   1345.6  5.970387\n",
            "\n",
            "[2265 rows x 4 columns]\n"
          ]
        }
      ]
    }
  ]
}